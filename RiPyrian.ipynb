{
 "cells": [
  {
   "cell_type": "markdown",
   "id": "34079ae5-8c38-4d20-98a8-70dd32ba9c22",
   "metadata": {
    "tags": []
   },
   "source": [
    "## Dependencies"
   ]
  },
  {
   "cell_type": "code",
   "execution_count": 71,
   "id": "2cb18e3b-28c2-4cd0-ba52-da2944f172b7",
   "metadata": {
    "tags": []
   },
   "outputs": [],
   "source": [
    "import geopandas as gpd\n",
    "import joblib\n",
    "import numpy as np\n",
    "import odc.geo.xr  # noqa: F401\n",
    "import pandas as pd\n",
    "import xarray as xr\n",
    "import matplotlib as plt\n",
    "import matplotlib.pyplot as pyplot\n",
    "import rasterio as rio\n",
    "from rasterio import plot\n",
    "from odc.stac import load\n",
    "from pystac_client import Client\n",
    "from shapely import geometry\n",
    "from shapely.geometry import shape, Polygon, MultiPolygon\n",
    "from shapely import LineString, MultiPoint\n",
    "from shapely.ops import split\n",
    "from sklearn.ensemble import RandomForestClassifier\n",
    "from dask.distributed import Client as dask_client\n",
    "import warnings\n",
    "warnings.filterwarnings('ignore')"
   ]
  },
  {
   "cell_type": "code",
   "execution_count": 56,
   "id": "092d8b4a-d766-4505-8ca7-f8546870ffb0",
   "metadata": {
    "tags": []
   },
   "outputs": [],
   "source": [
    "# Read in data inputs\n",
    "aoi = gpd.read_file(\"wavuwavu_extent.geojson\")\n",
    "river_bounds = gpd.read_file(\"wavuwavu_river.geojson\")"
   ]
  },
  {
   "cell_type": "code",
   "execution_count": 57,
   "id": "8a2ad683-9185-4f6a-bc37-af3fa9568e08",
   "metadata": {
    "tags": []
   },
   "outputs": [
    {
     "data": {
      "text/html": [
       "<div><svg style=\"position: absolute; width: 0; height: 0; overflow: hidden\">\n",
       "<defs>\n",
       "<symbol id=\"icon-database\" viewBox=\"0 0 32 32\">\n",
       "<path d=\"M16 0c-8.837 0-16 2.239-16 5v4c0 2.761 7.163 5 16 5s16-2.239 16-5v-4c0-2.761-7.163-5-16-5z\"></path>\n",
       "<path d=\"M16 17c-8.837 0-16-2.239-16-5v6c0 2.761 7.163 5 16 5s16-2.239 16-5v-6c0 2.761-7.163 5-16 5z\"></path>\n",
       "<path d=\"M16 26c-8.837 0-16-2.239-16-5v6c0 2.761 7.163 5 16 5s16-2.239 16-5v-6c0 2.761-7.163 5-16 5z\"></path>\n",
       "</symbol>\n",
       "<symbol id=\"icon-file-text2\" viewBox=\"0 0 32 32\">\n",
       "<path d=\"M28.681 7.159c-0.694-0.947-1.662-2.053-2.724-3.116s-2.169-2.030-3.116-2.724c-1.612-1.182-2.393-1.319-2.841-1.319h-15.5c-1.378 0-2.5 1.121-2.5 2.5v27c0 1.378 1.122 2.5 2.5 2.5h23c1.378 0 2.5-1.122 2.5-2.5v-19.5c0-0.448-0.137-1.23-1.319-2.841zM24.543 5.457c0.959 0.959 1.712 1.825 2.268 2.543h-4.811v-4.811c0.718 0.556 1.584 1.309 2.543 2.268zM28 29.5c0 0.271-0.229 0.5-0.5 0.5h-23c-0.271 0-0.5-0.229-0.5-0.5v-27c0-0.271 0.229-0.5 0.5-0.5 0 0 15.499-0 15.5 0v7c0 0.552 0.448 1 1 1h7v19.5z\"></path>\n",
       "<path d=\"M23 26h-14c-0.552 0-1-0.448-1-1s0.448-1 1-1h14c0.552 0 1 0.448 1 1s-0.448 1-1 1z\"></path>\n",
       "<path d=\"M23 22h-14c-0.552 0-1-0.448-1-1s0.448-1 1-1h14c0.552 0 1 0.448 1 1s-0.448 1-1 1z\"></path>\n",
       "<path d=\"M23 18h-14c-0.552 0-1-0.448-1-1s0.448-1 1-1h14c0.552 0 1 0.448 1 1s-0.448 1-1 1z\"></path>\n",
       "</symbol>\n",
       "</defs>\n",
       "</svg>\n",
       "<style>/* CSS stylesheet for displaying xarray objects in jupyterlab.\n",
       " *\n",
       " */\n",
       "\n",
       ":root {\n",
       "  --xr-font-color0: var(--jp-content-font-color0, rgba(0, 0, 0, 1));\n",
       "  --xr-font-color2: var(--jp-content-font-color2, rgba(0, 0, 0, 0.54));\n",
       "  --xr-font-color3: var(--jp-content-font-color3, rgba(0, 0, 0, 0.38));\n",
       "  --xr-border-color: var(--jp-border-color2, #e0e0e0);\n",
       "  --xr-disabled-color: var(--jp-layout-color3, #bdbdbd);\n",
       "  --xr-background-color: var(--jp-layout-color0, white);\n",
       "  --xr-background-color-row-even: var(--jp-layout-color1, white);\n",
       "  --xr-background-color-row-odd: var(--jp-layout-color2, #eeeeee);\n",
       "}\n",
       "\n",
       "html[theme=dark],\n",
       "body[data-theme=dark],\n",
       "body.vscode-dark {\n",
       "  --xr-font-color0: rgba(255, 255, 255, 1);\n",
       "  --xr-font-color2: rgba(255, 255, 255, 0.54);\n",
       "  --xr-font-color3: rgba(255, 255, 255, 0.38);\n",
       "  --xr-border-color: #1F1F1F;\n",
       "  --xr-disabled-color: #515151;\n",
       "  --xr-background-color: #111111;\n",
       "  --xr-background-color-row-even: #111111;\n",
       "  --xr-background-color-row-odd: #313131;\n",
       "}\n",
       "\n",
       ".xr-wrap {\n",
       "  display: block !important;\n",
       "  min-width: 300px;\n",
       "  max-width: 700px;\n",
       "}\n",
       "\n",
       ".xr-text-repr-fallback {\n",
       "  /* fallback to plain text repr when CSS is not injected (untrusted notebook) */\n",
       "  display: none;\n",
       "}\n",
       "\n",
       ".xr-header {\n",
       "  padding-top: 6px;\n",
       "  padding-bottom: 6px;\n",
       "  margin-bottom: 4px;\n",
       "  border-bottom: solid 1px var(--xr-border-color);\n",
       "}\n",
       "\n",
       ".xr-header > div,\n",
       ".xr-header > ul {\n",
       "  display: inline;\n",
       "  margin-top: 0;\n",
       "  margin-bottom: 0;\n",
       "}\n",
       "\n",
       ".xr-obj-type,\n",
       ".xr-array-name {\n",
       "  margin-left: 2px;\n",
       "  margin-right: 10px;\n",
       "}\n",
       "\n",
       ".xr-obj-type {\n",
       "  color: var(--xr-font-color2);\n",
       "}\n",
       "\n",
       ".xr-sections {\n",
       "  padding-left: 0 !important;\n",
       "  display: grid;\n",
       "  grid-template-columns: 150px auto auto 1fr 20px 20px;\n",
       "}\n",
       "\n",
       ".xr-section-item {\n",
       "  display: contents;\n",
       "}\n",
       "\n",
       ".xr-section-item input {\n",
       "  display: none;\n",
       "}\n",
       "\n",
       ".xr-section-item input + label {\n",
       "  color: var(--xr-disabled-color);\n",
       "}\n",
       "\n",
       ".xr-section-item input:enabled + label {\n",
       "  cursor: pointer;\n",
       "  color: var(--xr-font-color2);\n",
       "}\n",
       "\n",
       ".xr-section-item input:enabled + label:hover {\n",
       "  color: var(--xr-font-color0);\n",
       "}\n",
       "\n",
       ".xr-section-summary {\n",
       "  grid-column: 1;\n",
       "  color: var(--xr-font-color2);\n",
       "  font-weight: 500;\n",
       "}\n",
       "\n",
       ".xr-section-summary > span {\n",
       "  display: inline-block;\n",
       "  padding-left: 0.5em;\n",
       "}\n",
       "\n",
       ".xr-section-summary-in:disabled + label {\n",
       "  color: var(--xr-font-color2);\n",
       "}\n",
       "\n",
       ".xr-section-summary-in + label:before {\n",
       "  display: inline-block;\n",
       "  content: '►';\n",
       "  font-size: 11px;\n",
       "  width: 15px;\n",
       "  text-align: center;\n",
       "}\n",
       "\n",
       ".xr-section-summary-in:disabled + label:before {\n",
       "  color: var(--xr-disabled-color);\n",
       "}\n",
       "\n",
       ".xr-section-summary-in:checked + label:before {\n",
       "  content: '▼';\n",
       "}\n",
       "\n",
       ".xr-section-summary-in:checked + label > span {\n",
       "  display: none;\n",
       "}\n",
       "\n",
       ".xr-section-summary,\n",
       ".xr-section-inline-details {\n",
       "  padding-top: 4px;\n",
       "  padding-bottom: 4px;\n",
       "}\n",
       "\n",
       ".xr-section-inline-details {\n",
       "  grid-column: 2 / -1;\n",
       "}\n",
       "\n",
       ".xr-section-details {\n",
       "  display: none;\n",
       "  grid-column: 1 / -1;\n",
       "  margin-bottom: 5px;\n",
       "}\n",
       "\n",
       ".xr-section-summary-in:checked ~ .xr-section-details {\n",
       "  display: contents;\n",
       "}\n",
       "\n",
       ".xr-array-wrap {\n",
       "  grid-column: 1 / -1;\n",
       "  display: grid;\n",
       "  grid-template-columns: 20px auto;\n",
       "}\n",
       "\n",
       ".xr-array-wrap > label {\n",
       "  grid-column: 1;\n",
       "  vertical-align: top;\n",
       "}\n",
       "\n",
       ".xr-preview {\n",
       "  color: var(--xr-font-color3);\n",
       "}\n",
       "\n",
       ".xr-array-preview,\n",
       ".xr-array-data {\n",
       "  padding: 0 5px !important;\n",
       "  grid-column: 2;\n",
       "}\n",
       "\n",
       ".xr-array-data,\n",
       ".xr-array-in:checked ~ .xr-array-preview {\n",
       "  display: none;\n",
       "}\n",
       "\n",
       ".xr-array-in:checked ~ .xr-array-data,\n",
       ".xr-array-preview {\n",
       "  display: inline-block;\n",
       "}\n",
       "\n",
       ".xr-dim-list {\n",
       "  display: inline-block !important;\n",
       "  list-style: none;\n",
       "  padding: 0 !important;\n",
       "  margin: 0;\n",
       "}\n",
       "\n",
       ".xr-dim-list li {\n",
       "  display: inline-block;\n",
       "  padding: 0;\n",
       "  margin: 0;\n",
       "}\n",
       "\n",
       ".xr-dim-list:before {\n",
       "  content: '(';\n",
       "}\n",
       "\n",
       ".xr-dim-list:after {\n",
       "  content: ')';\n",
       "}\n",
       "\n",
       ".xr-dim-list li:not(:last-child):after {\n",
       "  content: ',';\n",
       "  padding-right: 5px;\n",
       "}\n",
       "\n",
       ".xr-has-index {\n",
       "  font-weight: bold;\n",
       "}\n",
       "\n",
       ".xr-var-list,\n",
       ".xr-var-item {\n",
       "  display: contents;\n",
       "}\n",
       "\n",
       ".xr-var-item > div,\n",
       ".xr-var-item label,\n",
       ".xr-var-item > .xr-var-name span {\n",
       "  background-color: var(--xr-background-color-row-even);\n",
       "  margin-bottom: 0;\n",
       "}\n",
       "\n",
       ".xr-var-item > .xr-var-name:hover span {\n",
       "  padding-right: 5px;\n",
       "}\n",
       "\n",
       ".xr-var-list > li:nth-child(odd) > div,\n",
       ".xr-var-list > li:nth-child(odd) > label,\n",
       ".xr-var-list > li:nth-child(odd) > .xr-var-name span {\n",
       "  background-color: var(--xr-background-color-row-odd);\n",
       "}\n",
       "\n",
       ".xr-var-name {\n",
       "  grid-column: 1;\n",
       "}\n",
       "\n",
       ".xr-var-dims {\n",
       "  grid-column: 2;\n",
       "}\n",
       "\n",
       ".xr-var-dtype {\n",
       "  grid-column: 3;\n",
       "  text-align: right;\n",
       "  color: var(--xr-font-color2);\n",
       "}\n",
       "\n",
       ".xr-var-preview {\n",
       "  grid-column: 4;\n",
       "}\n",
       "\n",
       ".xr-index-preview {\n",
       "  grid-column: 2 / 5;\n",
       "  color: var(--xr-font-color2);\n",
       "}\n",
       "\n",
       ".xr-var-name,\n",
       ".xr-var-dims,\n",
       ".xr-var-dtype,\n",
       ".xr-preview,\n",
       ".xr-attrs dt {\n",
       "  white-space: nowrap;\n",
       "  overflow: hidden;\n",
       "  text-overflow: ellipsis;\n",
       "  padding-right: 10px;\n",
       "}\n",
       "\n",
       ".xr-var-name:hover,\n",
       ".xr-var-dims:hover,\n",
       ".xr-var-dtype:hover,\n",
       ".xr-attrs dt:hover {\n",
       "  overflow: visible;\n",
       "  width: auto;\n",
       "  z-index: 1;\n",
       "}\n",
       "\n",
       ".xr-var-attrs,\n",
       ".xr-var-data,\n",
       ".xr-index-data {\n",
       "  display: none;\n",
       "  background-color: var(--xr-background-color) !important;\n",
       "  padding-bottom: 5px !important;\n",
       "}\n",
       "\n",
       ".xr-var-attrs-in:checked ~ .xr-var-attrs,\n",
       ".xr-var-data-in:checked ~ .xr-var-data,\n",
       ".xr-index-data-in:checked ~ .xr-index-data {\n",
       "  display: block;\n",
       "}\n",
       "\n",
       ".xr-var-data > table {\n",
       "  float: right;\n",
       "}\n",
       "\n",
       ".xr-var-name span,\n",
       ".xr-var-data,\n",
       ".xr-index-name div,\n",
       ".xr-index-data,\n",
       ".xr-attrs {\n",
       "  padding-left: 25px !important;\n",
       "}\n",
       "\n",
       ".xr-attrs,\n",
       ".xr-var-attrs,\n",
       ".xr-var-data,\n",
       ".xr-index-data {\n",
       "  grid-column: 1 / -1;\n",
       "}\n",
       "\n",
       "dl.xr-attrs {\n",
       "  padding: 0;\n",
       "  margin: 0;\n",
       "  display: grid;\n",
       "  grid-template-columns: 125px auto;\n",
       "}\n",
       "\n",
       ".xr-attrs dt,\n",
       ".xr-attrs dd {\n",
       "  padding: 0;\n",
       "  margin: 0;\n",
       "  float: left;\n",
       "  padding-right: 10px;\n",
       "  width: auto;\n",
       "}\n",
       "\n",
       ".xr-attrs dt {\n",
       "  font-weight: normal;\n",
       "  grid-column: 1;\n",
       "}\n",
       "\n",
       ".xr-attrs dt:hover span {\n",
       "  display: inline-block;\n",
       "  background: var(--xr-background-color);\n",
       "  padding-right: 10px;\n",
       "}\n",
       "\n",
       ".xr-attrs dd {\n",
       "  grid-column: 2;\n",
       "  white-space: pre-wrap;\n",
       "  word-break: break-all;\n",
       "}\n",
       "\n",
       ".xr-icon-database,\n",
       ".xr-icon-file-text2,\n",
       ".xr-no-icon {\n",
       "  display: inline-block;\n",
       "  vertical-align: middle;\n",
       "  width: 1em;\n",
       "  height: 1.5em !important;\n",
       "  stroke-width: 0;\n",
       "  stroke: currentColor;\n",
       "  fill: currentColor;\n",
       "}\n",
       "</style><pre class='xr-text-repr-fallback'>&lt;xarray.DataArray ()&gt;\n",
       "array(&#x27;LULC_2023_wavuwavu_extent&#x27;, dtype=&#x27;&lt;U25&#x27;)</pre><div class='xr-wrap' style='display:none'><div class='xr-header'><div class='xr-obj-type'>xarray.DataArray</div><div class='xr-array-name'></div></div><ul class='xr-sections'><li class='xr-section-item'><div class='xr-array-wrap'><input id='section-72840915-258f-40a1-93a2-657b5b91960d' class='xr-array-in' type='checkbox' checked><label for='section-72840915-258f-40a1-93a2-657b5b91960d' title='Show/hide data repr'><svg class='icon xr-icon-database'><use xlink:href='#icon-database'></use></svg></label><div class='xr-array-preview xr-preview'><span>&#x27;LULC_2023_wavuwavu_extent&#x27;</span></div><div class='xr-array-data'><pre>array(&#x27;LULC_2023_wavuwavu_extent&#x27;, dtype=&#x27;&lt;U25&#x27;)</pre></div></div></li><li class='xr-section-item'><input id='section-612ebf6c-2dd5-4420-bd44-0a7e12e1462d' class='xr-section-summary-in' type='checkbox' disabled ><label for='section-612ebf6c-2dd5-4420-bd44-0a7e12e1462d' class='xr-section-summary'  title='Expand/collapse section'>Coordinates: <span>(0)</span></label><div class='xr-section-inline-details'></div><div class='xr-section-details'><ul class='xr-var-list'></ul></div></li><li class='xr-section-item'><input id='section-da58a712-1a8a-44b5-a4e0-642b081f3d18' class='xr-section-summary-in' type='checkbox' disabled ><label for='section-da58a712-1a8a-44b5-a4e0-642b081f3d18' class='xr-section-summary'  title='Expand/collapse section'>Indexes: <span>(0)</span></label><div class='xr-section-inline-details'></div><div class='xr-section-details'><ul class='xr-var-list'></ul></div></li><li class='xr-section-item'><input id='section-035d1484-8135-4994-b711-c0729267639a' class='xr-section-summary-in' type='checkbox' disabled ><label for='section-035d1484-8135-4994-b711-c0729267639a' class='xr-section-summary'  title='Expand/collapse section'>Attributes: <span>(0)</span></label><div class='xr-section-inline-details'></div><div class='xr-section-details'><dl class='xr-attrs'></dl></div></li></ul></div></div>"
      ],
      "text/plain": [
       "<xarray.DataArray ()>\n",
       "array('LULC_2023_wavuwavu_extent', dtype='<U25')"
      ]
     },
     "execution_count": 57,
     "metadata": {},
     "output_type": "execute_result"
    }
   ],
   "source": [
    "lulc_dataarray = xr.DataArray(\"LULC_2023_wavuwavu_extent\")\n",
    "lulc_dataarray"
   ]
  },
  {
   "cell_type": "code",
   "execution_count": 58,
   "id": "74b20ca8-2d29-4b1b-9eda-31f5c21166f0",
   "metadata": {
    "tags": []
   },
   "outputs": [],
   "source": [
    "da = rio.open(\"LULC_2023_wavuwavu_extent.tif\")"
   ]
  },
  {
   "cell_type": "code",
   "execution_count": 59,
   "id": "8175d410-37df-4797-a2c4-91c31bfd0f60",
   "metadata": {
    "tags": []
   },
   "outputs": [
    {
     "data": {
      "text/plain": [
       "<open DatasetReader name='LULC_2023_wavuwavu_extent.tif' mode='r'>"
      ]
     },
     "execution_count": 59,
     "metadata": {},
     "output_type": "execute_result"
    }
   ],
   "source": [
    "da"
   ]
  },
  {
   "cell_type": "code",
   "execution_count": 60,
   "id": "a7e32132-92dd-437e-9576-da529c9300f1",
   "metadata": {
    "tags": []
   },
   "outputs": [],
   "source": [
    "with rio.open(\"LULC_2023_wavuwavu_extent.tif\") as src:\n",
    "  # Get data and associated information\n",
    "  data = src.read(1)  # Assuming single band data, adjust for multi-band\n",
    "  transform = src.transform  # Get the geotransformation\n"
   ]
  },
  {
   "cell_type": "code",
   "execution_count": 61,
   "id": "b6343f19-4218-4f50-b830-a2b68067626b",
   "metadata": {
    "tags": []
   },
   "outputs": [
    {
     "data": {
      "text/plain": [
       "array([[3, 3, 3, ..., 3, 3, 3],\n",
       "       [3, 3, 3, ..., 3, 3, 3],\n",
       "       [3, 3, 3, ..., 3, 3, 3],\n",
       "       ...,\n",
       "       [3, 3, 4, ..., 3, 3, 3],\n",
       "       [3, 3, 3, ..., 4, 3, 3],\n",
       "       [3, 3, 3, ..., 4, 3, 3]], dtype=uint8)"
      ]
     },
     "execution_count": 61,
     "metadata": {},
     "output_type": "execute_result"
    }
   ],
   "source": [
    "data"
   ]
  },
  {
   "cell_type": "code",
   "execution_count": 62,
   "id": "10773450-3f8d-4e91-9a1b-ae3a5fcdcd5a",
   "metadata": {
    "tags": []
   },
   "outputs": [
    {
     "data": {
      "image/png": "[encoded data removed]",
      "text/plain": [
       "<Figure size 640x480 with 1 Axes>"
      ]
     },
     "metadata": {},
     "output_type": "display_data"
    },
    {
     "data": {
      "text/plain": [
       "<Axes: title={'center': 'RiPyrian : area of interest'}>"
      ]
     },
     "execution_count": 62,
     "metadata": {},
     "output_type": "execute_result"
    }
   ],
   "source": [
    "# Plot the data using rasterio.plot\n",
    "plot.show(data, cmap='PRGn_r', transform=transform, title=\"RiPyrian : area of interest\")\n",
    "# plt.show(cmap='Reds')  # To display the plot in the notebook"
   ]
  },
  {
   "cell_type": "code",
   "execution_count": 63,
   "id": "8e2310b6-c64a-434d-8bcf-0e02eda2a8c0",
   "metadata": {
    "tags": []
   },
   "outputs": [
    {
     "data": {
      "image/png": "[encoded data removed]",
      "text/plain": [
       "<Figure size 640x480 with 1 Axes>"
      ]
     },
     "metadata": {},
     "output_type": "display_data"
    },
    {
     "data": {
      "text/plain": [
       "<Axes: title={'center': 'RiPyrian - area of interest'}>"
      ]
     },
     "execution_count": 63,
     "metadata": {},
     "output_type": "execute_result"
    }
   ],
   "source": [
    "# Plot the data using rasterio.plot\n",
    "plot.show(data, cmap='YlGn_r', transform=transform, title=\"RiPyrian - area of interest\")\n",
    "# plt.show(cmap='Reds')  # To display the plot in the notebook"
   ]
  },
  {
   "cell_type": "code",
   "execution_count": 64,
   "id": "d9438952-43f4-4783-b5a5-9afb7fc2baac",
   "metadata": {
    "tags": []
   },
   "outputs": [
    {
     "data": {
      "text/html": [
       "<div><svg style=\"position: absolute; width: 0; height: 0; overflow: hidden\">\n",
       "<defs>\n",
       "<symbol id=\"icon-database\" viewBox=\"0 0 32 32\">\n",
       "<path d=\"M16 0c-8.837 0-16 2.239-16 5v4c0 2.761 7.163 5 16 5s16-2.239 16-5v-4c0-2.761-7.163-5-16-5z\"></path>\n",
       "<path d=\"M16 17c-8.837 0-16-2.239-16-5v6c0 2.761 7.163 5 16 5s16-2.239 16-5v-6c0 2.761-7.163 5-16 5z\"></path>\n",
       "<path d=\"M16 26c-8.837 0-16-2.239-16-5v6c0 2.761 7.163 5 16 5s16-2.239 16-5v-6c0 2.761-7.163 5-16 5z\"></path>\n",
       "</symbol>\n",
       "<symbol id=\"icon-file-text2\" viewBox=\"0 0 32 32\">\n",
       "<path d=\"M28.681 7.159c-0.694-0.947-1.662-2.053-2.724-3.116s-2.169-2.030-3.116-2.724c-1.612-1.182-2.393-1.319-2.841-1.319h-15.5c-1.378 0-2.5 1.121-2.5 2.5v27c0 1.378 1.122 2.5 2.5 2.5h23c1.378 0 2.5-1.122 2.5-2.5v-19.5c0-0.448-0.137-1.23-1.319-2.841zM24.543 5.457c0.959 0.959 1.712 1.825 2.268 2.543h-4.811v-4.811c0.718 0.556 1.584 1.309 2.543 2.268zM28 29.5c0 0.271-0.229 0.5-0.5 0.5h-23c-0.271 0-0.5-0.229-0.5-0.5v-27c0-0.271 0.229-0.5 0.5-0.5 0 0 15.499-0 15.5 0v7c0 0.552 0.448 1 1 1h7v19.5z\"></path>\n",
       "<path d=\"M23 26h-14c-0.552 0-1-0.448-1-1s0.448-1 1-1h14c0.552 0 1 0.448 1 1s-0.448 1-1 1z\"></path>\n",
       "<path d=\"M23 22h-14c-0.552 0-1-0.448-1-1s0.448-1 1-1h14c0.552 0 1 0.448 1 1s-0.448 1-1 1z\"></path>\n",
       "<path d=\"M23 18h-14c-0.552 0-1-0.448-1-1s0.448-1 1-1h14c0.552 0 1 0.448 1 1s-0.448 1-1 1z\"></path>\n",
       "</symbol>\n",
       "</defs>\n",
       "</svg>\n",
       "<style>/* CSS stylesheet for displaying xarray objects in jupyterlab.\n",
       " *\n",
       " */\n",
       "\n",
       ":root {\n",
       "  --xr-font-color0: var(--jp-content-font-color0, rgba(0, 0, 0, 1));\n",
       "  --xr-font-color2: var(--jp-content-font-color2, rgba(0, 0, 0, 0.54));\n",
       "  --xr-font-color3: var(--jp-content-font-color3, rgba(0, 0, 0, 0.38));\n",
       "  --xr-border-color: var(--jp-border-color2, #e0e0e0);\n",
       "  --xr-disabled-color: var(--jp-layout-color3, #bdbdbd);\n",
       "  --xr-background-color: var(--jp-layout-color0, white);\n",
       "  --xr-background-color-row-even: var(--jp-layout-color1, white);\n",
       "  --xr-background-color-row-odd: var(--jp-layout-color2, #eeeeee);\n",
       "}\n",
       "\n",
       "html[theme=dark],\n",
       "body[data-theme=dark],\n",
       "body.vscode-dark {\n",
       "  --xr-font-color0: rgba(255, 255, 255, 1);\n",
       "  --xr-font-color2: rgba(255, 255, 255, 0.54);\n",
       "  --xr-font-color3: rgba(255, 255, 255, 0.38);\n",
       "  --xr-border-color: #1F1F1F;\n",
       "  --xr-disabled-color: #515151;\n",
       "  --xr-background-color: #111111;\n",
       "  --xr-background-color-row-even: #111111;\n",
       "  --xr-background-color-row-odd: #313131;\n",
       "}\n",
       "\n",
       ".xr-wrap {\n",
       "  display: block !important;\n",
       "  min-width: 300px;\n",
       "  max-width: 700px;\n",
       "}\n",
       "\n",
       ".xr-text-repr-fallback {\n",
       "  /* fallback to plain text repr when CSS is not injected (untrusted notebook) */\n",
       "  display: none;\n",
       "}\n",
       "\n",
       ".xr-header {\n",
       "  padding-top: 6px;\n",
       "  padding-bottom: 6px;\n",
       "  margin-bottom: 4px;\n",
       "  border-bottom: solid 1px var(--xr-border-color);\n",
       "}\n",
       "\n",
       ".xr-header > div,\n",
       ".xr-header > ul {\n",
       "  display: inline;\n",
       "  margin-top: 0;\n",
       "  margin-bottom: 0;\n",
       "}\n",
       "\n",
       ".xr-obj-type,\n",
       ".xr-array-name {\n",
       "  margin-left: 2px;\n",
       "  margin-right: 10px;\n",
       "}\n",
       "\n",
       ".xr-obj-type {\n",
       "  color: var(--xr-font-color2);\n",
       "}\n",
       "\n",
       ".xr-sections {\n",
       "  padding-left: 0 !important;\n",
       "  display: grid;\n",
       "  grid-template-columns: 150px auto auto 1fr 20px 20px;\n",
       "}\n",
       "\n",
       ".xr-section-item {\n",
       "  display: contents;\n",
       "}\n",
       "\n",
       ".xr-section-item input {\n",
       "  display: none;\n",
       "}\n",
       "\n",
       ".xr-section-item input + label {\n",
       "  color: var(--xr-disabled-color);\n",
       "}\n",
       "\n",
       ".xr-section-item input:enabled + label {\n",
       "  cursor: pointer;\n",
       "  color: var(--xr-font-color2);\n",
       "}\n",
       "\n",
       ".xr-section-item input:enabled + label:hover {\n",
       "  color: var(--xr-font-color0);\n",
       "}\n",
       "\n",
       ".xr-section-summary {\n",
       "  grid-column: 1;\n",
       "  color: var(--xr-font-color2);\n",
       "  font-weight: 500;\n",
       "}\n",
       "\n",
       ".xr-section-summary > span {\n",
       "  display: inline-block;\n",
       "  padding-left: 0.5em;\n",
       "}\n",
       "\n",
       ".xr-section-summary-in:disabled + label {\n",
       "  color: var(--xr-font-color2);\n",
       "}\n",
       "\n",
       ".xr-section-summary-in + label:before {\n",
       "  display: inline-block;\n",
       "  content: '►';\n",
       "  font-size: 11px;\n",
       "  width: 15px;\n",
       "  text-align: center;\n",
       "}\n",
       "\n",
       ".xr-section-summary-in:disabled + label:before {\n",
       "  color: var(--xr-disabled-color);\n",
       "}\n",
       "\n",
       ".xr-section-summary-in:checked + label:before {\n",
       "  content: '▼';\n",
       "}\n",
       "\n",
       ".xr-section-summary-in:checked + label > span {\n",
       "  display: none;\n",
       "}\n",
       "\n",
       ".xr-section-summary,\n",
       ".xr-section-inline-details {\n",
       "  padding-top: 4px;\n",
       "  padding-bottom: 4px;\n",
       "}\n",
       "\n",
       ".xr-section-inline-details {\n",
       "  grid-column: 2 / -1;\n",
       "}\n",
       "\n",
       ".xr-section-details {\n",
       "  display: none;\n",
       "  grid-column: 1 / -1;\n",
       "  margin-bottom: 5px;\n",
       "}\n",
       "\n",
       ".xr-section-summary-in:checked ~ .xr-section-details {\n",
       "  display: contents;\n",
       "}\n",
       "\n",
       ".xr-array-wrap {\n",
       "  grid-column: 1 / -1;\n",
       "  display: grid;\n",
       "  grid-template-columns: 20px auto;\n",
       "}\n",
       "\n",
       ".xr-array-wrap > label {\n",
       "  grid-column: 1;\n",
       "  vertical-align: top;\n",
       "}\n",
       "\n",
       ".xr-preview {\n",
       "  color: var(--xr-font-color3);\n",
       "}\n",
       "\n",
       ".xr-array-preview,\n",
       ".xr-array-data {\n",
       "  padding: 0 5px !important;\n",
       "  grid-column: 2;\n",
       "}\n",
       "\n",
       ".xr-array-data,\n",
       ".xr-array-in:checked ~ .xr-array-preview {\n",
       "  display: none;\n",
       "}\n",
       "\n",
       ".xr-array-in:checked ~ .xr-array-data,\n",
       ".xr-array-preview {\n",
       "  display: inline-block;\n",
       "}\n",
       "\n",
       ".xr-dim-list {\n",
       "  display: inline-block !important;\n",
       "  list-style: none;\n",
       "  padding: 0 !important;\n",
       "  margin: 0;\n",
       "}\n",
       "\n",
       ".xr-dim-list li {\n",
       "  display: inline-block;\n",
       "  padding: 0;\n",
       "  margin: 0;\n",
       "}\n",
       "\n",
       ".xr-dim-list:before {\n",
       "  content: '(';\n",
       "}\n",
       "\n",
       ".xr-dim-list:after {\n",
       "  content: ')';\n",
       "}\n",
       "\n",
       ".xr-dim-list li:not(:last-child):after {\n",
       "  content: ',';\n",
       "  padding-right: 5px;\n",
       "}\n",
       "\n",
       ".xr-has-index {\n",
       "  font-weight: bold;\n",
       "}\n",
       "\n",
       ".xr-var-list,\n",
       ".xr-var-item {\n",
       "  display: contents;\n",
       "}\n",
       "\n",
       ".xr-var-item > div,\n",
       ".xr-var-item label,\n",
       ".xr-var-item > .xr-var-name span {\n",
       "  background-color: var(--xr-background-color-row-even);\n",
       "  margin-bottom: 0;\n",
       "}\n",
       "\n",
       ".xr-var-item > .xr-var-name:hover span {\n",
       "  padding-right: 5px;\n",
       "}\n",
       "\n",
       ".xr-var-list > li:nth-child(odd) > div,\n",
       ".xr-var-list > li:nth-child(odd) > label,\n",
       ".xr-var-list > li:nth-child(odd) > .xr-var-name span {\n",
       "  background-color: var(--xr-background-color-row-odd);\n",
       "}\n",
       "\n",
       ".xr-var-name {\n",
       "  grid-column: 1;\n",
       "}\n",
       "\n",
       ".xr-var-dims {\n",
       "  grid-column: 2;\n",
       "}\n",
       "\n",
       ".xr-var-dtype {\n",
       "  grid-column: 3;\n",
       "  text-align: right;\n",
       "  color: var(--xr-font-color2);\n",
       "}\n",
       "\n",
       ".xr-var-preview {\n",
       "  grid-column: 4;\n",
       "}\n",
       "\n",
       ".xr-index-preview {\n",
       "  grid-column: 2 / 5;\n",
       "  color: var(--xr-font-color2);\n",
       "}\n",
       "\n",
       ".xr-var-name,\n",
       ".xr-var-dims,\n",
       ".xr-var-dtype,\n",
       ".xr-preview,\n",
       ".xr-attrs dt {\n",
       "  white-space: nowrap;\n",
       "  overflow: hidden;\n",
       "  text-overflow: ellipsis;\n",
       "  padding-right: 10px;\n",
       "}\n",
       "\n",
       ".xr-var-name:hover,\n",
       ".xr-var-dims:hover,\n",
       ".xr-var-dtype:hover,\n",
       ".xr-attrs dt:hover {\n",
       "  overflow: visible;\n",
       "  width: auto;\n",
       "  z-index: 1;\n",
       "}\n",
       "\n",
       ".xr-var-attrs,\n",
       ".xr-var-data,\n",
       ".xr-index-data {\n",
       "  display: none;\n",
       "  background-color: var(--xr-background-color) !important;\n",
       "  padding-bottom: 5px !important;\n",
       "}\n",
       "\n",
       ".xr-var-attrs-in:checked ~ .xr-var-attrs,\n",
       ".xr-var-data-in:checked ~ .xr-var-data,\n",
       ".xr-index-data-in:checked ~ .xr-index-data {\n",
       "  display: block;\n",
       "}\n",
       "\n",
       ".xr-var-data > table {\n",
       "  float: right;\n",
       "}\n",
       "\n",
       ".xr-var-name span,\n",
       ".xr-var-data,\n",
       ".xr-index-name div,\n",
       ".xr-index-data,\n",
       ".xr-attrs {\n",
       "  padding-left: 25px !important;\n",
       "}\n",
       "\n",
       ".xr-attrs,\n",
       ".xr-var-attrs,\n",
       ".xr-var-data,\n",
       ".xr-index-data {\n",
       "  grid-column: 1 / -1;\n",
       "}\n",
       "\n",
       "dl.xr-attrs {\n",
       "  padding: 0;\n",
       "  margin: 0;\n",
       "  display: grid;\n",
       "  grid-template-columns: 125px auto;\n",
       "}\n",
       "\n",
       ".xr-attrs dt,\n",
       ".xr-attrs dd {\n",
       "  padding: 0;\n",
       "  margin: 0;\n",
       "  float: left;\n",
       "  padding-right: 10px;\n",
       "  width: auto;\n",
       "}\n",
       "\n",
       ".xr-attrs dt {\n",
       "  font-weight: normal;\n",
       "  grid-column: 1;\n",
       "}\n",
       "\n",
       ".xr-attrs dt:hover span {\n",
       "  display: inline-block;\n",
       "  background: var(--xr-background-color);\n",
       "  padding-right: 10px;\n",
       "}\n",
       "\n",
       ".xr-attrs dd {\n",
       "  grid-column: 2;\n",
       "  white-space: pre-wrap;\n",
       "  word-break: break-all;\n",
       "}\n",
       "\n",
       ".xr-icon-database,\n",
       ".xr-icon-file-text2,\n",
       ".xr-no-icon {\n",
       "  display: inline-block;\n",
       "  vertical-align: middle;\n",
       "  width: 1em;\n",
       "  height: 1.5em !important;\n",
       "  stroke-width: 0;\n",
       "  stroke: currentColor;\n",
       "  fill: currentColor;\n",
       "}\n",
       "</style><pre class='xr-text-repr-fallback'>&lt;xarray.DataArray &#x27;LULC_2023_wavuwavu_extent.tif&#x27; ()&gt;\n",
       "array(&lt;open DatasetReader name=&#x27;LULC_2023_wavuwavu_extent.tif&#x27; mode=&#x27;r&#x27;&gt;,\n",
       "      dtype=object)</pre><div class='xr-wrap' style='display:none'><div class='xr-header'><div class='xr-obj-type'>xarray.DataArray</div><div class='xr-array-name'>'LULC_2023_wavuwavu_extent.tif'</div></div><ul class='xr-sections'><li class='xr-section-item'><div class='xr-array-wrap'><input id='section-2bc083eb-7cf2-4b87-8599-900d6c77822a' class='xr-array-in' type='checkbox' checked><label for='section-2bc083eb-7cf2-4b87-8599-900d6c77822a' title='Show/hide data repr'><svg class='icon xr-icon-database'><use xlink:href='#icon-database'></use></svg></label><div class='xr-array-preview xr-preview'><span>&lt;open DatasetReader name=&#x27;LULC_2023_wavuwavu_extent.tif&#x27; mode=&#x27;r&#x27;&gt;</span></div><div class='xr-array-data'><pre>array(&lt;open DatasetReader name=&#x27;LULC_2023_wavuwavu_extent.tif&#x27; mode=&#x27;r&#x27;&gt;,\n",
       "      dtype=object)</pre></div></div></li><li class='xr-section-item'><input id='section-5aa45a58-ec16-4bcc-b969-e8d974187d56' class='xr-section-summary-in' type='checkbox' disabled ><label for='section-5aa45a58-ec16-4bcc-b969-e8d974187d56' class='xr-section-summary'  title='Expand/collapse section'>Coordinates: <span>(0)</span></label><div class='xr-section-inline-details'></div><div class='xr-section-details'><ul class='xr-var-list'></ul></div></li><li class='xr-section-item'><input id='section-fc602ed5-cb15-4b0c-b3bb-0f2d67ceb2e3' class='xr-section-summary-in' type='checkbox' disabled ><label for='section-fc602ed5-cb15-4b0c-b3bb-0f2d67ceb2e3' class='xr-section-summary'  title='Expand/collapse section'>Indexes: <span>(0)</span></label><div class='xr-section-inline-details'></div><div class='xr-section-details'><ul class='xr-var-list'></ul></div></li><li class='xr-section-item'><input id='section-0360923a-77cf-4dd3-93ee-06e7c3208d6f' class='xr-section-summary-in' type='checkbox' disabled ><label for='section-0360923a-77cf-4dd3-93ee-06e7c3208d6f' class='xr-section-summary'  title='Expand/collapse section'>Attributes: <span>(0)</span></label><div class='xr-section-inline-details'></div><div class='xr-section-details'><dl class='xr-attrs'></dl></div></li></ul></div></div>"
      ],
      "text/plain": [
       "<xarray.DataArray 'LULC_2023_wavuwavu_extent.tif' ()>\n",
       "array(<open DatasetReader name='LULC_2023_wavuwavu_extent.tif' mode='r'>,\n",
       "      dtype=object)"
      ]
     },
     "execution_count": 64,
     "metadata": {},
     "output_type": "execute_result"
    }
   ],
   "source": [
    "dataarray = xr.DataArray(da)\n",
    "dataarray"
   ]
  },
  {
   "cell_type": "code",
   "execution_count": 65,
   "id": "67a12dbc-9508-45b4-8aa2-228e33b720e9",
   "metadata": {
    "tags": []
   },
   "outputs": [
    {
     "data": {
      "text/html": [
       "<div>\n",
       "<style scoped>\n",
       "    .dataframe tbody tr th:only-of-type {\n",
       "        vertical-align: middle;\n",
       "    }\n",
       "\n",
       "    .dataframe tbody tr th {\n",
       "        vertical-align: top;\n",
       "    }\n",
       "\n",
       "    .dataframe thead th {\n",
       "        text-align: right;\n",
       "    }\n",
       "</style>\n",
       "<table border=\"1\" class=\"dataframe\">\n",
       "  <thead>\n",
       "    <tr style=\"text-align: right;\">\n",
       "      <th></th>\n",
       "      <th>id</th>\n",
       "      <th>geometry</th>\n",
       "    </tr>\n",
       "  </thead>\n",
       "  <tbody>\n",
       "    <tr>\n",
       "      <th>0</th>\n",
       "      <td>0.0</td>\n",
       "      <td>MULTIPOLYGON (((177.68288 -17.53067, 177.68287...</td>\n",
       "    </tr>\n",
       "  </tbody>\n",
       "</table>\n",
       "</div>"
      ],
      "text/plain": [
       "    id                                           geometry\n",
       "0  0.0  MULTIPOLYGON (((177.68288 -17.53067, 177.68287..."
      ]
     },
     "execution_count": 65,
     "metadata": {},
     "output_type": "execute_result"
    }
   ],
   "source": [
    "river_bounds = river_bounds.fillna(0)\n",
    "river_bounds"
   ]
  },
  {
   "cell_type": "code",
   "execution_count": 66,
   "id": "404db84f-d3ac-4af4-aa19-277ecce7f9d5",
   "metadata": {
    "tags": []
   },
   "outputs": [
    {
     "data": {
      "text/plain": [
       "<bound method NDFrame.describe of     id                                           geometry\n",
       "0  0.0  MULTIPOLYGON (((177.68288 -17.53067, 177.68287...>"
      ]
     },
     "execution_count": 66,
     "metadata": {},
     "output_type": "execute_result"
    }
   ],
   "source": [
    "river_bounds.describe"
   ]
  },
  {
   "cell_type": "code",
   "execution_count": 67,
   "id": "317b4057-52e0-4ba7-90bc-eae9651165d1",
   "metadata": {
    "tags": []
   },
   "outputs": [
    {
     "data": {
      "text/plain": [
       "0    MultiPolygon\n",
       "dtype: object"
      ]
     },
     "execution_count": 67,
     "metadata": {},
     "output_type": "execute_result"
    }
   ],
   "source": [
    "river_bounds.type"
   ]
  },
  {
   "cell_type": "code",
   "execution_count": 68,
   "id": "a3988b4d-008d-4b94-a50e-10536fc22666",
   "metadata": {},
   "outputs": [
    {
     "data": {
      "text/plain": [
       "<Axes: >"
      ]
     },
     "execution_count": 68,
     "metadata": {},
     "output_type": "execute_result"
    },
    {
     "data": {
      "image/png": "[encoded data removed]",
      "text/plain": [
       "<Figure size 640x480 with 1 Axes>"
      ]
     },
     "metadata": {},
     "output_type": "display_data"
    }
   ],
   "source": [
    "river_bounds.plot()"
   ]
  },
  {
   "cell_type": "code",
   "execution_count": 69,
   "id": "3e122f20-fe8a-415c-992a-0e127dbbbf22",
   "metadata": {
    "tags": []
   },
   "outputs": [],
   "source": [
    "river_lines = river_bounds.boundary"
   ]
  },
  {
   "cell_type": "code",
   "execution_count": 94,
   "id": "bfe4b660-38d7-4e72-a0c4-621f63718685",
   "metadata": {
    "tags": []
   },
   "outputs": [],
   "source": [
    "river_lines = river_lines.to_crs(crs='EPSG:4326')"
   ]
  },
  {
   "cell_type": "code",
   "execution_count": 95,
   "id": "2caaa026-8bae-472c-98f8-d030e1e220a8",
   "metadata": {
    "tags": []
   },
   "outputs": [
    {
     "data": {
      "text/plain": [
       "<Axes: >"
      ]
     },
     "execution_count": 95,
     "metadata": {},
     "output_type": "execute_result"
    },
    {
     "data": {
      "image/png": "[encoded data removed]",
      "text/plain": [
       "<Figure size 640x480 with 1 Axes>"
      ]
     },
     "metadata": {},
     "output_type": "display_data"
    }
   ],
   "source": [
    "river_lines.plot()"
   ]
  },
  {
   "cell_type": "code",
   "execution_count": 187,
   "id": "4a1ffdba-f02d-4d55-8630-f94240c42586",
   "metadata": {
    "tags": []
   },
   "outputs": [
    {
     "data": {
      "text/plain": [
       "0    MULTILINESTRING ((177.68288 -17.53067, 177.682...\n",
       "dtype: geometry"
      ]
     },
     "execution_count": 187,
     "metadata": {},
     "output_type": "execute_result"
    }
   ],
   "source": [
    "river_lines"
   ]
  },
  {
   "cell_type": "code",
   "execution_count": 188,
   "id": "7b861a59-0411-4bb4-aec3-5596b29e32f7",
   "metadata": {
    "tags": []
   },
   "outputs": [
    {
     "data": {
      "text/plain": [
       "<geopandas.array.GeometryDtype at 0x7f5f7a0ba890>"
      ]
     },
     "execution_count": 188,
     "metadata": {},
     "output_type": "execute_result"
    }
   ],
   "source": []
  },
  {
   "cell_type": "code",
   "execution_count": 186,
   "id": "27d6e927-5317-4d47-82f2-e2cb3c3ae70f",
   "metadata": {
    "tags": []
   },
   "outputs": [],
   "source": [
    "river_lines.to_file(\"riverbank_lines.geojson\")"
   ]
  },
  {
   "cell_type": "code",
   "execution_count": 103,
   "id": "e11a8e6c-f41a-45f2-9f20-66261d081220",
   "metadata": {
    "tags": []
   },
   "outputs": [],
   "source": [
    "def split_multilinestring(multilinestring, segment_length):\n",
    "  segments = []\n",
    "  for linestring in multilinestring.geoms:\n",
    "    # Access coordinates of the current LineString\n",
    "    coords = linestring.coords\n",
    "\n",
    "    # ... rest of your code for splitting the LineString using coords\n",
    "  return segments\n",
    "  \"\"\"\n",
    "  Splits a MultiLineString into segments of a specified length.\n",
    "\n",
    "  Args:\n",
    "      multilinestring: A Shapely MultiLineString object.\n",
    "      segment_length: The desired length of each segment.\n",
    "\n",
    "  Returns:\n",
    "      A list of Shapely LineString objects representing the segments.\n",
    "  \"\"\"\n",
    "  segments = []\n",
    "  for linestring in multilinestring.geometry:\n",
    "    # Split the individual LineString using a custom function\n",
    "    segments.extend(split_linestring(linestring, segment_length))\n",
    "  return segments\n",
    "\n",
    "def split_linestring(linestring, segment_length):\n",
    "  \"\"\"\n",
    "  Splits a LineString into segments of a specified length.\n",
    "\n",
    "  Args:\n",
    "      linestring: A Shapely LineString object.\n",
    "      segment_length: The desired length of each segment.\n",
    "\n",
    "  Returns:\n",
    "      A list of Shapely LineString objects representing the segments.\n",
    "  \"\"\"\n",
    "  # Get the total line length\n",
    "  line_length = linestring.length\n",
    "\n",
    "  # Check if segment_length is valid\n",
    "  if segment_length <= 0:\n",
    "    raise ValueError(\"Segment length must be positive.\")\n",
    "  elif segment_length > line_length:\n",
    "    return [linestring]  # Line is shorter than segment_length, return the line itself\n",
    "\n",
    "  # Calculate the number of segments\n",
    "  num_segments = int(line_length // segment_length) + 1\n",
    "\n",
    "  # Create a list to store the segments\n",
    "  segments = []\n",
    "\n",
    "  # Calculate step size (distance between points in segments)\n",
    "  step_size = line_length / num_segments\n",
    "\n",
    "  # Iterate and create segments with interpolation\n",
    "  for i in range(num_segments):\n",
    "    start_coords = linestring.coords[i]\n",
    "    end_coords = linestring.interpolate(step_size * (i + 1), normalized=False)\n",
    "    segment = LineString([start_coords, end_coords])\n",
    "    segments.append(segment)\n",
    "\n",
    "  return segments\n"
   ]
  },
  {
   "cell_type": "code",
   "execution_count": 167,
   "id": "b8e1bfa3-d069-4275-8181-7401cb73afb6",
   "metadata": {
    "tags": []
   },
   "outputs": [],
   "source": [
    "def split_multilinestring(multilinestring, segment_length):\n",
    "  segments = []\n",
    "  for geometry in multilinestring.geometry:\n",
    "    if geometry.type == \"MultiLineString\":\n",
    "      # Code to handle MultiLineString geometry (indentation added)\n",
    "      pass  # Replace with your actual code for processing MultiLineString\n",
    "    else:\n",
    "      # Code to handle non-MultiLineString geometry (indentation added)\n",
    "      pass  # Replace with your desired behavior for other geometries\n",
    "  return segments\n"
   ]
  },
  {
   "cell_type": "code",
   "execution_count": 170,
   "id": "c18c913d-7547-4a70-b3a0-0a84c51535db",
   "metadata": {
    "tags": []
   },
   "outputs": [
    {
     "data": {
      "text/plain": [
       "0    0.028234\n",
       "dtype: float64"
      ]
     },
     "execution_count": 170,
     "metadata": {},
     "output_type": "execute_result"
    }
   ],
   "source": [
    "total_length = river_lines.length\n",
    "total_length"
   ]
  },
  {
   "cell_type": "code",
   "execution_count": 169,
   "id": "383605b4-4755-4467-8c74-5604fd932399",
   "metadata": {
    "tags": []
   },
   "outputs": [
    {
     "name": "stdout",
     "output_type": "stream",
     "text": [
      "Number of segments: 0\n"
     ]
    }
   ],
   "source": [
    "# Example usage\n",
    "multilinestring = river_lines\n",
    "segment_length = 8.99774E-05\n",
    "segments = split_multilinestring(multilinestring, segment_length)\n",
    "\n",
    "# Process or plot the segments here\n",
    "print(f\"Number of segments: {len(segments)}\")"
   ]
  },
  {
   "cell_type": "code",
   "execution_count": 173,
   "id": "c7ba48aa-0712-403d-9727-3825879ac3b9",
   "metadata": {
    "tags": []
   },
   "outputs": [
    {
     "data": {
      "text/plain": [
       "0    313.792266\n",
       "dtype: float64"
      ]
     },
     "execution_count": 173,
     "metadata": {},
     "output_type": "execute_result"
    }
   ],
   "source": [
    "No_segments = total_length/segment_length\n",
    "No_segments"
   ]
  },
  {
   "cell_type": "code",
   "execution_count": 181,
   "id": "d20359d8-809b-4a81-b733-1c800358724d",
   "metadata": {
    "tags": []
   },
   "outputs": [],
   "source": [
    "def split_multilinestring(multilinestring, segment_length):\n",
    "  # Filter for MultiLineString geometries\n",
    "  multilinestring_filtered = multilinestring[multilinestring.geometry.type == \"MultiLineString\"]\n",
    "  segments = []\n",
    "  # ... rest of your code for iterating through MultiLineStrings in multilinestring_filtered\n",
    "\n",
    "  return segments\n",
    "\n"
   ]
  },
  {
   "cell_type": "code",
   "execution_count": 182,
   "id": "59f2af24-8532-427c-919e-b2665aef9ffe",
   "metadata": {
    "tags": []
   },
   "outputs": [
    {
     "ename": "NameError",
     "evalue": "name 'multilinestring_filtered' is not defined",
     "output_type": "error",
     "traceback": [
      "\u001b[0;31m---------------------------------------------------------------------------\u001b[0m",
      "\u001b[0;31mNameError\u001b[0m                                 Traceback (most recent call last)",
      "Cell \u001b[0;32mIn[182], line 4\u001b[0m\n\u001b[1;32m      2\u001b[0m multilinestring \u001b[38;5;241m=\u001b[39m river_lines\n\u001b[1;32m      3\u001b[0m segment_length \u001b[38;5;241m=\u001b[39m \u001b[38;5;241m8.99774E-05\u001b[39m\n\u001b[0;32m----> 4\u001b[0m segments \u001b[38;5;241m=\u001b[39m split_multilinestring(\u001b[43mmultilinestring_filtered\u001b[49m, segment_length)\n\u001b[1;32m      6\u001b[0m \u001b[38;5;66;03m# Process or plot the segments here\u001b[39;00m\n\u001b[1;32m      7\u001b[0m \u001b[38;5;28mprint\u001b[39m(\u001b[38;5;124mf\u001b[39m\u001b[38;5;124m\"\u001b[39m\u001b[38;5;124mNumber of segments:\u001b[39m\u001b[38;5;124m\"\u001b[39m, {\u001b[38;5;28mlen\u001b[39m(segments)})\n",
      "\u001b[0;31mNameError\u001b[0m: name 'multilinestring_filtered' is not defined"
     ]
    }
   ],
   "source": [
    "# Example usage\n",
    "multilinestring = river_lines\n",
    "segment_length = 8.99774E-05\n",
    "segments = split_multilinestring(multilinestring_filtered, segment_length)\n",
    "\n",
    "# Process or plot the segments here\n",
    "print(f\"Number of segments:\", {len(segments)})"
   ]
  },
  {
   "cell_type": "code",
   "execution_count": null,
   "id": "9b27b729-1b4a-431d-8f0d-c6413efa8fad",
   "metadata": {},
   "outputs": [],
   "source": []
  },
  {
   "cell_type": "code",
   "execution_count": null,
   "id": "85b2859e-772c-4b88-ac11-90ac0afd16e8",
   "metadata": {},
   "outputs": [],
   "source": [
    "roads = roads['geometry'] # roads contain a single multiline\n",
    "points = points['geometry'] # points for finding the distance from line segements after segmenting the multiline\n",
    "\n",
    "plot = roads.iloc[0] # roads.iloc[0] gives a multiline\n",
    "x = plot.length\n",
    "x = int(x/0.2)\n",
    "splitter = MultiPoint([plot.interpolate((i/x), normalized=True) for i in range(1, x)])\n",
    "#splitter gives the points on multiline at equal distance, but only contains points\n",
    "plot = gpd.GeoSeries(plot)\n",
    "splitter = gpd.GeoSeries(splitter)"
   ]
  },
  {
   "cell_type": "code",
   "execution_count": 47,
   "id": "dd571863-4069-4359-b359-a77c35a4c74e",
   "metadata": {
    "tags": []
   },
   "outputs": [
    {
     "ename": "TypeError",
     "evalue": "'GeoSeries' object is not callable",
     "output_type": "error",
     "traceback": [
      "\u001b[0;31m---------------------------------------------------------------------------\u001b[0m",
      "\u001b[0;31mTypeError\u001b[0m                                 Traceback (most recent call last)",
      "Cell \u001b[0;32mIn[47], line 1\u001b[0m\n\u001b[0;32m----> 1\u001b[0m line \u001b[38;5;241m=\u001b[39m \u001b[43mriver_lines\u001b[49m\u001b[43m(\u001b[49m\u001b[43m[\u001b[49m\u001b[43m(\u001b[49m\u001b[38;5;241;43m0\u001b[39;49m\u001b[43m,\u001b[49m\u001b[43m \u001b[49m\u001b[38;5;241;43m0\u001b[39;49m\u001b[43m)\u001b[49m\u001b[43m,\u001b[49m\u001b[43m \u001b[49m\u001b[43m(\u001b[49m\u001b[38;5;241;43m0\u001b[39;49m\u001b[43m,\u001b[49m\u001b[43m \u001b[49m\u001b[38;5;241;43m10\u001b[39;49m\u001b[43m)\u001b[49m\u001b[43m]\u001b[49m\u001b[43m)\u001b[49m\n",
      "\u001b[0;31mTypeError\u001b[0m: 'GeoSeries' object is not callable"
     ]
    }
   ],
   "source": [
    "line = river_lines([(0, 0), (0, 10)])\n"
   ]
  },
  {
   "cell_type": "code",
   "execution_count": 48,
   "id": "3fc6483c-0889-4db4-bb36-83ef4bd9efd3",
   "metadata": {
    "tags": []
   },
   "outputs": [],
   "source": [
    "line = LineString([(0, 0), (0, 10)])\n"
   ]
  },
  {
   "cell_type": "code",
   "execution_count": 50,
   "id": "01e139d2-7fea-4fa4-8373-40e3cb4130b5",
   "metadata": {
    "tags": []
   },
   "outputs": [
    {
     "ename": "NameError",
     "evalue": "name 'segmentize' is not defined",
     "output_type": "error",
     "traceback": [
      "\u001b[0;31m---------------------------------------------------------------------------\u001b[0m",
      "\u001b[0;31mNameError\u001b[0m                                 Traceback (most recent call last)",
      "Cell \u001b[0;32mIn[50], line 1\u001b[0m\n\u001b[0;32m----> 1\u001b[0m \u001b[43msegmentize\u001b[49m(line, max_segment_length\u001b[38;5;241m=\u001b[39m\u001b[38;5;241m5\u001b[39m)\n",
      "\u001b[0;31mNameError\u001b[0m: name 'segmentize' is not defined"
     ]
    }
   ],
   "source": [
    "segmentize(line, max_segment_length=5)\n"
   ]
  },
  {
   "cell_type": "code",
   "execution_count": null,
   "id": "77dc3a5a-e44f-4ee9-8665-211bfcca8df6",
   "metadata": {},
   "outputs": [],
   "source": []
  },
  {
   "cell_type": "code",
   "execution_count": null,
   "id": "05277a11-3231-435d-9e9d-0641dbbf1e6c",
   "metadata": {},
   "outputs": [],
   "source": [
    "\n",
    "\n",
    "<LINESTRING (0 0, 0 5, 0 10)>\n",
    "\n",
    "polygon = Polygon([(0, 0), (10, 0), (10, 10), (0, 10), (0, 0)])\n",
    "\n",
    "segmentize(polygon, max_segment_length=5)\n",
    "<POLYGON ((0 0, 5 0, 10 0, 10 5, 10 10, 5 10, 0 10, 0 5, 0 0))>\n",
    "\n",
    "segmentize(None, max_segment_length=5) is None\n",
    "True"
   ]
  },
  {
   "cell_type": "code",
   "execution_count": null,
   "id": "25473597-1865-415d-b1ff-e8e0a20fc597",
   "metadata": {},
   "outputs": [],
   "source": []
  },
  {
   "cell_type": "code",
   "execution_count": null,
   "id": "bf0ff0ba-70e4-441c-940a-5f9b441a31d9",
   "metadata": {},
   "outputs": [],
   "source": []
  },
  {
   "cell_type": "code",
   "execution_count": null,
   "id": "52bb4fd3-dc2b-4f44-a6e2-215219be366c",
   "metadata": {},
   "outputs": [],
   "source": [
    "segmentize(line, max_segment_length=5)\n",
    "\n",
    "<LINESTRING (0 0, 0 5, 0 10)>\n",
    "\n",
    "polygon = Polygon([(0, 0), (10, 0), (10, 10), (0, 10), (0, 0)])\n",
    "\n",
    "segmentize(polygon, max_segment_length=5)\n",
    "<POLYGON ((0 0, 5 0, 10 0, 10 5, 10 10, 5 10, 0 10, 0 5, 0 0))>\n",
    "\n",
    "segmentize(None, max_segment_length=5) is None\n",
    "True"
   ]
  },
  {
   "cell_type": "code",
   "execution_count": 46,
   "id": "094b6168-0b69-4bc2-aa15-8afd7dd3d793",
   "metadata": {},
   "outputs": [
    {
     "ename": "NameError",
     "evalue": "name 'segmentize' is not defined",
     "output_type": "error",
     "traceback": [
      "\u001b[0;31m---------------------------------------------------------------------------\u001b[0m",
      "\u001b[0;31mNameError\u001b[0m                                 Traceback (most recent call last)",
      "Cell \u001b[0;32mIn[46], line 1\u001b[0m\n\u001b[0;32m----> 1\u001b[0m \u001b[43msegmentize\u001b[49m(river_lines, \u001b[38;5;241m10\u001b[39m, \u001b[38;5;241m*\u001b[39m\u001b[38;5;241m*\u001b[39mkwargs)\n",
      "\u001b[0;31mNameError\u001b[0m: name 'segmentize' is not defined"
     ]
    }
   ],
   "source": [
    "segmentize(river_lines, 10, **kwargs)"
   ]
  },
  {
   "cell_type": "code",
   "execution_count": null,
   "id": "cc12ee12-3a59-4d43-b8fb-ad8899beea41",
   "metadata": {},
   "outputs": [],
   "source": []
  }
 ],
 "metadata": {
  "kernelspec": {
   "display_name": "Python 3 (ipykernel)",
   "language": "python",
   "name": "python3"
  },
  "language_info": {
   "codemirror_mode": {
    "name": "ipython",
    "version": 3
   },
   "file_extension": ".py",
   "mimetype": "text/x-python",
   "name": "python",
   "nbconvert_exporter": "python",
   "pygments_lexer": "ipython3",
   "version": "3.11.4"
  }
 },
 "nbformat": 4,
 "nbformat_minor": 5
}
